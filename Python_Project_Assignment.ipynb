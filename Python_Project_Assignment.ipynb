{
 "cells": [
  {
   "cell_type": "code",
   "execution_count": 1,
   "id": "af554bf2",
   "metadata": {},
   "outputs": [],
   "source": [
    "import pandas as pd\n",
    "from matplotlib import pyplot as plt\n",
    "import seaborn as sns\n",
    "import numpy as np"
   ]
  },
  {
   "cell_type": "code",
   "execution_count": 2,
   "id": "62d32275",
   "metadata": {},
   "outputs": [],
   "source": [
    "#Statistics Related of Mysore Masala Dosa order\n",
    "da=pd.read_csv(\"Cleaned-Combinedata-Dosa_c.csv\")"
   ]
  },
  {
   "cell_type": "code",
   "execution_count": 3,
   "id": "f14a2df7",
   "metadata": {},
   "outputs": [
    {
     "data": {
      "text/plain": [
       "Index(['Resturant_Name', 'Time To Delivery', 'Rating', 'Cost', 'Item',\n",
       "       'App Name'],\n",
       "      dtype='object')"
      ]
     },
     "execution_count": 3,
     "metadata": {},
     "output_type": "execute_result"
    }
   ],
   "source": [
    "da.columns"
   ]
  },
  {
   "cell_type": "code",
   "execution_count": 4,
   "id": "1f239c7f",
   "metadata": {},
   "outputs": [
    {
     "data": {
      "text/plain": [
       "(148, 6)"
      ]
     },
     "execution_count": 4,
     "metadata": {},
     "output_type": "execute_result"
    }
   ],
   "source": [
    "da.shape"
   ]
  },
  {
   "cell_type": "code",
   "execution_count": 5,
   "id": "7dad236e",
   "metadata": {},
   "outputs": [
    {
     "data": {
      "text/html": [
       "<div>\n",
       "<style scoped>\n",
       "    .dataframe tbody tr th:only-of-type {\n",
       "        vertical-align: middle;\n",
       "    }\n",
       "\n",
       "    .dataframe tbody tr th {\n",
       "        vertical-align: top;\n",
       "    }\n",
       "\n",
       "    .dataframe thead th {\n",
       "        text-align: right;\n",
       "    }\n",
       "</style>\n",
       "<table border=\"1\" class=\"dataframe\">\n",
       "  <thead>\n",
       "    <tr style=\"text-align: right;\">\n",
       "      <th></th>\n",
       "      <th>Resturant_Name</th>\n",
       "      <th>Time To Delivery</th>\n",
       "      <th>Rating</th>\n",
       "      <th>Cost</th>\n",
       "      <th>Item</th>\n",
       "      <th>App Name</th>\n",
       "    </tr>\n",
       "  </thead>\n",
       "  <tbody>\n",
       "    <tr>\n",
       "      <th>0</th>\n",
       "      <td>By South Indian Fast Food</td>\n",
       "      <td>36</td>\n",
       "      <td>4.2</td>\n",
       "      <td>130</td>\n",
       "      <td>Mysore Masala Dosa</td>\n",
       "      <td>Swiggy</td>\n",
       "    </tr>\n",
       "    <tr>\n",
       "      <th>1</th>\n",
       "      <td>By Bhaja Govindam</td>\n",
       "      <td>25</td>\n",
       "      <td>4.6</td>\n",
       "      <td>220</td>\n",
       "      <td>Mysore Masala Dosa</td>\n",
       "      <td>Swiggy</td>\n",
       "    </tr>\n",
       "    <tr>\n",
       "      <th>2</th>\n",
       "      <td>By Saunf</td>\n",
       "      <td>26</td>\n",
       "      <td>4.4</td>\n",
       "      <td>229</td>\n",
       "      <td>Mysore Masala Dosa</td>\n",
       "      <td>Swiggy</td>\n",
       "    </tr>\n",
       "    <tr>\n",
       "      <th>3</th>\n",
       "      <td>By Dosa Planet</td>\n",
       "      <td>22</td>\n",
       "      <td>4.0</td>\n",
       "      <td>270</td>\n",
       "      <td>Mysore Masala Dosa</td>\n",
       "      <td>Swiggy</td>\n",
       "    </tr>\n",
       "    <tr>\n",
       "      <th>4</th>\n",
       "      <td>By Southy</td>\n",
       "      <td>25</td>\n",
       "      <td>4.1</td>\n",
       "      <td>210</td>\n",
       "      <td>Mysore Masala Dosa</td>\n",
       "      <td>Swiggy</td>\n",
       "    </tr>\n",
       "    <tr>\n",
       "      <th>5</th>\n",
       "      <td>By Chaska Ram</td>\n",
       "      <td>36</td>\n",
       "      <td>4.7</td>\n",
       "      <td>180</td>\n",
       "      <td>Mysore Masala Dosa</td>\n",
       "      <td>Swiggy</td>\n",
       "    </tr>\n",
       "    <tr>\n",
       "      <th>6</th>\n",
       "      <td>By Wah ji wah</td>\n",
       "      <td>28</td>\n",
       "      <td>3.8</td>\n",
       "      <td>180</td>\n",
       "      <td>Mysore Masala Dosa</td>\n",
       "      <td>Swiggy</td>\n",
       "    </tr>\n",
       "    <tr>\n",
       "      <th>7</th>\n",
       "      <td>By Dasaprakash</td>\n",
       "      <td>30</td>\n",
       "      <td>4.5</td>\n",
       "      <td>280</td>\n",
       "      <td>Mysore Masala Dosa</td>\n",
       "      <td>Swiggy</td>\n",
       "    </tr>\n",
       "    <tr>\n",
       "      <th>8</th>\n",
       "      <td>By Desi Ghee Express</td>\n",
       "      <td>31</td>\n",
       "      <td>4.5</td>\n",
       "      <td>205</td>\n",
       "      <td>Mysore Masala Dosa</td>\n",
       "      <td>Swiggy</td>\n",
       "    </tr>\n",
       "    <tr>\n",
       "      <th>9</th>\n",
       "      <td>By Southy Cafe</td>\n",
       "      <td>26</td>\n",
       "      <td>4.0</td>\n",
       "      <td>195</td>\n",
       "      <td>Mysore Masala Dosa</td>\n",
       "      <td>Swiggy</td>\n",
       "    </tr>\n",
       "  </tbody>\n",
       "</table>\n",
       "</div>"
      ],
      "text/plain": [
       "              Resturant_Name  Time To Delivery  Rating  Cost  \\\n",
       "0  By South Indian Fast Food                36     4.2   130   \n",
       "1          By Bhaja Govindam                25     4.6   220   \n",
       "2                   By Saunf                26     4.4   229   \n",
       "3             By Dosa Planet                22     4.0   270   \n",
       "4                  By Southy                25     4.1   210   \n",
       "5              By Chaska Ram                36     4.7   180   \n",
       "6              By Wah ji wah                28     3.8   180   \n",
       "7             By Dasaprakash                30     4.5   280   \n",
       "8       By Desi Ghee Express                31     4.5   205   \n",
       "9             By Southy Cafe                26     4.0   195   \n",
       "\n",
       "                 Item App Name  \n",
       "0  Mysore Masala Dosa   Swiggy  \n",
       "1  Mysore Masala Dosa   Swiggy  \n",
       "2  Mysore Masala Dosa   Swiggy  \n",
       "3  Mysore Masala Dosa   Swiggy  \n",
       "4  Mysore Masala Dosa   Swiggy  \n",
       "5  Mysore Masala Dosa   Swiggy  \n",
       "6  Mysore Masala Dosa   Swiggy  \n",
       "7  Mysore Masala Dosa   Swiggy  \n",
       "8  Mysore Masala Dosa   Swiggy  \n",
       "9  Mysore Masala Dosa   Swiggy  "
      ]
     },
     "execution_count": 5,
     "metadata": {},
     "output_type": "execute_result"
    }
   ],
   "source": [
    "da.head(10)"
   ]
  },
  {
   "cell_type": "code",
   "execution_count": 6,
   "id": "30d2961b",
   "metadata": {},
   "outputs": [
    {
     "name": "stdout",
     "output_type": "stream",
     "text": [
      "Resturant_Name      2\n",
      "Time To Delivery    0\n",
      "Rating              0\n",
      "Cost                0\n",
      "Item                0\n",
      "App Name            0\n",
      "dtype: int64\n"
     ]
    }
   ],
   "source": [
    "#Finding the null values\n",
    "null_counts = da.isnull().sum()\n",
    "print(null_counts)"
   ]
  },
  {
   "cell_type": "code",
   "execution_count": 7,
   "id": "700be6e3",
   "metadata": {},
   "outputs": [
    {
     "data": {
      "text/plain": [
       "Resturant_Name       object\n",
       "Time To Delivery      int64\n",
       "Rating              float64\n",
       "Cost                  int64\n",
       "Item                 object\n",
       "App Name             object\n",
       "dtype: object"
      ]
     },
     "execution_count": 7,
     "metadata": {},
     "output_type": "execute_result"
    }
   ],
   "source": [
    "#Findind data type\n",
    "da.dtypes"
   ]
  },
  {
   "cell_type": "code",
   "execution_count": 8,
   "id": "2401861c",
   "metadata": {},
   "outputs": [
    {
     "data": {
      "text/html": [
       "<div>\n",
       "<style scoped>\n",
       "    .dataframe tbody tr th:only-of-type {\n",
       "        vertical-align: middle;\n",
       "    }\n",
       "\n",
       "    .dataframe tbody tr th {\n",
       "        vertical-align: top;\n",
       "    }\n",
       "\n",
       "    .dataframe thead th {\n",
       "        text-align: right;\n",
       "    }\n",
       "</style>\n",
       "<table border=\"1\" class=\"dataframe\">\n",
       "  <thead>\n",
       "    <tr style=\"text-align: right;\">\n",
       "      <th></th>\n",
       "      <th>Time To Delivery</th>\n",
       "      <th>Rating</th>\n",
       "      <th>Cost</th>\n",
       "    </tr>\n",
       "  </thead>\n",
       "  <tbody>\n",
       "    <tr>\n",
       "      <th>count</th>\n",
       "      <td>148.000000</td>\n",
       "      <td>148.000000</td>\n",
       "      <td>148.000000</td>\n",
       "    </tr>\n",
       "    <tr>\n",
       "      <th>mean</th>\n",
       "      <td>34.155405</td>\n",
       "      <td>4.108784</td>\n",
       "      <td>160.527027</td>\n",
       "    </tr>\n",
       "    <tr>\n",
       "      <th>std</th>\n",
       "      <td>6.907270</td>\n",
       "      <td>0.250694</td>\n",
       "      <td>60.151334</td>\n",
       "    </tr>\n",
       "    <tr>\n",
       "      <th>min</th>\n",
       "      <td>18.000000</td>\n",
       "      <td>2.800000</td>\n",
       "      <td>100.000000</td>\n",
       "    </tr>\n",
       "    <tr>\n",
       "      <th>25%</th>\n",
       "      <td>29.000000</td>\n",
       "      <td>4.000000</td>\n",
       "      <td>100.000000</td>\n",
       "    </tr>\n",
       "    <tr>\n",
       "      <th>50%</th>\n",
       "      <td>34.000000</td>\n",
       "      <td>4.100000</td>\n",
       "      <td>150.000000</td>\n",
       "    </tr>\n",
       "    <tr>\n",
       "      <th>75%</th>\n",
       "      <td>37.000000</td>\n",
       "      <td>4.300000</td>\n",
       "      <td>205.000000</td>\n",
       "    </tr>\n",
       "    <tr>\n",
       "      <th>max</th>\n",
       "      <td>57.000000</td>\n",
       "      <td>4.700000</td>\n",
       "      <td>300.000000</td>\n",
       "    </tr>\n",
       "  </tbody>\n",
       "</table>\n",
       "</div>"
      ],
      "text/plain": [
       "       Time To Delivery      Rating        Cost\n",
       "count        148.000000  148.000000  148.000000\n",
       "mean          34.155405    4.108784  160.527027\n",
       "std            6.907270    0.250694   60.151334\n",
       "min           18.000000    2.800000  100.000000\n",
       "25%           29.000000    4.000000  100.000000\n",
       "50%           34.000000    4.100000  150.000000\n",
       "75%           37.000000    4.300000  205.000000\n",
       "max           57.000000    4.700000  300.000000"
      ]
     },
     "execution_count": 8,
     "metadata": {},
     "output_type": "execute_result"
    }
   ],
   "source": [
    "da.describe()"
   ]
  },
  {
   "cell_type": "code",
   "execution_count": 9,
   "id": "dc2ec715",
   "metadata": {},
   "outputs": [],
   "source": [
    "#Renamecolumn\n",
    "da=da.rename(columns={'Resturant_Name':'Resturant'})"
   ]
  },
  {
   "cell_type": "code",
   "execution_count": 10,
   "id": "ed9be0ec",
   "metadata": {},
   "outputs": [
    {
     "data": {
      "text/html": [
       "<div>\n",
       "<style scoped>\n",
       "    .dataframe tbody tr th:only-of-type {\n",
       "        vertical-align: middle;\n",
       "    }\n",
       "\n",
       "    .dataframe tbody tr th {\n",
       "        vertical-align: top;\n",
       "    }\n",
       "\n",
       "    .dataframe thead th {\n",
       "        text-align: right;\n",
       "    }\n",
       "</style>\n",
       "<table border=\"1\" class=\"dataframe\">\n",
       "  <thead>\n",
       "    <tr style=\"text-align: right;\">\n",
       "      <th></th>\n",
       "      <th>Resturant</th>\n",
       "      <th>Time To Delivery</th>\n",
       "      <th>Rating</th>\n",
       "      <th>Cost</th>\n",
       "      <th>Item</th>\n",
       "      <th>App Name</th>\n",
       "    </tr>\n",
       "  </thead>\n",
       "  <tbody>\n",
       "    <tr>\n",
       "      <th>0</th>\n",
       "      <td>By South Indian Fast Food</td>\n",
       "      <td>36</td>\n",
       "      <td>4.2</td>\n",
       "      <td>130</td>\n",
       "      <td>Mysore Masala Dosa</td>\n",
       "      <td>Swiggy</td>\n",
       "    </tr>\n",
       "    <tr>\n",
       "      <th>1</th>\n",
       "      <td>By Bhaja Govindam</td>\n",
       "      <td>25</td>\n",
       "      <td>4.6</td>\n",
       "      <td>220</td>\n",
       "      <td>Mysore Masala Dosa</td>\n",
       "      <td>Swiggy</td>\n",
       "    </tr>\n",
       "    <tr>\n",
       "      <th>2</th>\n",
       "      <td>By Saunf</td>\n",
       "      <td>26</td>\n",
       "      <td>4.4</td>\n",
       "      <td>229</td>\n",
       "      <td>Mysore Masala Dosa</td>\n",
       "      <td>Swiggy</td>\n",
       "    </tr>\n",
       "    <tr>\n",
       "      <th>3</th>\n",
       "      <td>By Dosa Planet</td>\n",
       "      <td>22</td>\n",
       "      <td>4.0</td>\n",
       "      <td>270</td>\n",
       "      <td>Mysore Masala Dosa</td>\n",
       "      <td>Swiggy</td>\n",
       "    </tr>\n",
       "    <tr>\n",
       "      <th>4</th>\n",
       "      <td>By Southy</td>\n",
       "      <td>25</td>\n",
       "      <td>4.1</td>\n",
       "      <td>210</td>\n",
       "      <td>Mysore Masala Dosa</td>\n",
       "      <td>Swiggy</td>\n",
       "    </tr>\n",
       "    <tr>\n",
       "      <th>...</th>\n",
       "      <td>...</td>\n",
       "      <td>...</td>\n",
       "      <td>...</td>\n",
       "      <td>...</td>\n",
       "      <td>...</td>\n",
       "      <td>...</td>\n",
       "    </tr>\n",
       "    <tr>\n",
       "      <th>143</th>\n",
       "      <td>Kwality Wall’s Frozen Dessert and Ice Cream Shop</td>\n",
       "      <td>37</td>\n",
       "      <td>4.1</td>\n",
       "      <td>110</td>\n",
       "      <td>Mysore Masala Dosa</td>\n",
       "      <td>Zomata</td>\n",
       "    </tr>\n",
       "    <tr>\n",
       "      <th>144</th>\n",
       "      <td>Meghana Foods</td>\n",
       "      <td>37</td>\n",
       "      <td>4.4</td>\n",
       "      <td>110</td>\n",
       "      <td>Mysore Masala Dosa</td>\n",
       "      <td>Zomata</td>\n",
       "    </tr>\n",
       "    <tr>\n",
       "      <th>145</th>\n",
       "      <td>NIC Ice Creams</td>\n",
       "      <td>37</td>\n",
       "      <td>4.5</td>\n",
       "      <td>110</td>\n",
       "      <td>Mysore Masala Dosa</td>\n",
       "      <td>Zomata</td>\n",
       "    </tr>\n",
       "    <tr>\n",
       "      <th>146</th>\n",
       "      <td>Sri Udupi Food Hub</td>\n",
       "      <td>37</td>\n",
       "      <td>4.2</td>\n",
       "      <td>110</td>\n",
       "      <td>Mysore Masala Dosa</td>\n",
       "      <td>Zomata</td>\n",
       "    </tr>\n",
       "    <tr>\n",
       "      <th>147</th>\n",
       "      <td>NaN</td>\n",
       "      <td>37</td>\n",
       "      <td>4.0</td>\n",
       "      <td>110</td>\n",
       "      <td>Mysore Masala Dosa</td>\n",
       "      <td>Zomata</td>\n",
       "    </tr>\n",
       "  </tbody>\n",
       "</table>\n",
       "<p>148 rows × 6 columns</p>\n",
       "</div>"
      ],
      "text/plain": [
       "                                            Resturant  Time To Delivery  \\\n",
       "0                           By South Indian Fast Food                36   \n",
       "1                                   By Bhaja Govindam                25   \n",
       "2                                            By Saunf                26   \n",
       "3                                      By Dosa Planet                22   \n",
       "4                                           By Southy                25   \n",
       "..                                                ...               ...   \n",
       "143  Kwality Wall’s Frozen Dessert and Ice Cream Shop                37   \n",
       "144                                     Meghana Foods                37   \n",
       "145                                    NIC Ice Creams                37   \n",
       "146                                Sri Udupi Food Hub                37   \n",
       "147                                               NaN                37   \n",
       "\n",
       "     Rating  Cost                Item App Name  \n",
       "0       4.2   130  Mysore Masala Dosa   Swiggy  \n",
       "1       4.6   220  Mysore Masala Dosa   Swiggy  \n",
       "2       4.4   229  Mysore Masala Dosa   Swiggy  \n",
       "3       4.0   270  Mysore Masala Dosa   Swiggy  \n",
       "4       4.1   210  Mysore Masala Dosa   Swiggy  \n",
       "..      ...   ...                 ...      ...  \n",
       "143     4.1   110  Mysore Masala Dosa   Zomata  \n",
       "144     4.4   110  Mysore Masala Dosa   Zomata  \n",
       "145     4.5   110  Mysore Masala Dosa   Zomata  \n",
       "146     4.2   110  Mysore Masala Dosa   Zomata  \n",
       "147     4.0   110  Mysore Masala Dosa   Zomata  \n",
       "\n",
       "[148 rows x 6 columns]"
      ]
     },
     "execution_count": 10,
     "metadata": {},
     "output_type": "execute_result"
    }
   ],
   "source": [
    "da"
   ]
  },
  {
   "cell_type": "code",
   "execution_count": 11,
   "id": "235ce62a",
   "metadata": {},
   "outputs": [
    {
     "data": {
      "text/html": [
       "<div>\n",
       "<style scoped>\n",
       "    .dataframe tbody tr th:only-of-type {\n",
       "        vertical-align: middle;\n",
       "    }\n",
       "\n",
       "    .dataframe tbody tr th {\n",
       "        vertical-align: top;\n",
       "    }\n",
       "\n",
       "    .dataframe thead th {\n",
       "        text-align: right;\n",
       "    }\n",
       "</style>\n",
       "<table border=\"1\" class=\"dataframe\">\n",
       "  <thead>\n",
       "    <tr style=\"text-align: right;\">\n",
       "      <th></th>\n",
       "      <th>Resturant</th>\n",
       "      <th>Time To Delivery</th>\n",
       "      <th>Rating</th>\n",
       "      <th>Cost</th>\n",
       "      <th>Item</th>\n",
       "      <th>App Name</th>\n",
       "    </tr>\n",
       "  </thead>\n",
       "  <tbody>\n",
       "    <tr>\n",
       "      <th>10</th>\n",
       "      <td>By Saunf</td>\n",
       "      <td>26</td>\n",
       "      <td>4.4</td>\n",
       "      <td>249</td>\n",
       "      <td>Mysore Masala Dosa</td>\n",
       "      <td>Swiggy</td>\n",
       "    </tr>\n",
       "    <tr>\n",
       "      <th>11</th>\n",
       "      <td>By Dosa Planet</td>\n",
       "      <td>22</td>\n",
       "      <td>4.0</td>\n",
       "      <td>300</td>\n",
       "      <td>Mysore Masala Dosa</td>\n",
       "      <td>Swiggy</td>\n",
       "    </tr>\n",
       "    <tr>\n",
       "      <th>22</th>\n",
       "      <td>By Southy</td>\n",
       "      <td>25</td>\n",
       "      <td>4.1</td>\n",
       "      <td>230</td>\n",
       "      <td>Mysore Masala Dosa</td>\n",
       "      <td>Swiggy</td>\n",
       "    </tr>\n",
       "    <tr>\n",
       "      <th>24</th>\n",
       "      <td>By Udupi</td>\n",
       "      <td>34</td>\n",
       "      <td>4.3</td>\n",
       "      <td>168</td>\n",
       "      <td>Mysore Masala Dosa</td>\n",
       "      <td>Swiggy</td>\n",
       "    </tr>\n",
       "    <tr>\n",
       "      <th>28</th>\n",
       "      <td>By Madras Coffee House</td>\n",
       "      <td>29</td>\n",
       "      <td>4.1</td>\n",
       "      <td>300</td>\n",
       "      <td>Mysore Masala Dosa</td>\n",
       "      <td>Swiggy</td>\n",
       "    </tr>\n",
       "    <tr>\n",
       "      <th>35</th>\n",
       "      <td>By Southy Cafe</td>\n",
       "      <td>26</td>\n",
       "      <td>4.0</td>\n",
       "      <td>210</td>\n",
       "      <td>Mysore Masala Dosa</td>\n",
       "      <td>Swiggy</td>\n",
       "    </tr>\n",
       "    <tr>\n",
       "      <th>38</th>\n",
       "      <td>By Udupi Krishna ( Kamla Nagar )</td>\n",
       "      <td>29</td>\n",
       "      <td>4.5</td>\n",
       "      <td>240</td>\n",
       "      <td>Mysore Masala Dosa</td>\n",
       "      <td>Swiggy</td>\n",
       "    </tr>\n",
       "    <tr>\n",
       "      <th>47</th>\n",
       "      <td>By Gupta Restaurant</td>\n",
       "      <td>27</td>\n",
       "      <td>4.0</td>\n",
       "      <td>170</td>\n",
       "      <td>Mysore Masala Dosa</td>\n",
       "      <td>Swiggy</td>\n",
       "    </tr>\n",
       "    <tr>\n",
       "      <th>50</th>\n",
       "      <td>By Vikrant Cafe</td>\n",
       "      <td>31</td>\n",
       "      <td>4.1</td>\n",
       "      <td>239</td>\n",
       "      <td>Mysore Masala Dosa</td>\n",
       "      <td>Swiggy</td>\n",
       "    </tr>\n",
       "    <tr>\n",
       "      <th>52</th>\n",
       "      <td>By Anna South Indian Hut</td>\n",
       "      <td>32</td>\n",
       "      <td>4.1</td>\n",
       "      <td>150</td>\n",
       "      <td>Mysore Masala Dosa</td>\n",
       "      <td>Swiggy</td>\n",
       "    </tr>\n",
       "    <tr>\n",
       "      <th>53</th>\n",
       "      <td>By Chennai South Indian Cafe</td>\n",
       "      <td>30</td>\n",
       "      <td>4.1</td>\n",
       "      <td>150</td>\n",
       "      <td>Mysore Masala Dosa</td>\n",
       "      <td>Swiggy</td>\n",
       "    </tr>\n",
       "    <tr>\n",
       "      <th>55</th>\n",
       "      <td>By Shiva Coffee &amp; South Indian Fast Food</td>\n",
       "      <td>28</td>\n",
       "      <td>3.9</td>\n",
       "      <td>230</td>\n",
       "      <td>Mysore Masala Dosa</td>\n",
       "      <td>Swiggy</td>\n",
       "    </tr>\n",
       "    <tr>\n",
       "      <th>65</th>\n",
       "      <td>By Naivedyam</td>\n",
       "      <td>27</td>\n",
       "      <td>4.4</td>\n",
       "      <td>260</td>\n",
       "      <td>Mysore Masala Dosa</td>\n",
       "      <td>Swiggy</td>\n",
       "    </tr>\n",
       "    <tr>\n",
       "      <th>66</th>\n",
       "      <td>By M Gopinath</td>\n",
       "      <td>29</td>\n",
       "      <td>4.2</td>\n",
       "      <td>180</td>\n",
       "      <td>Mysore Masala Dosa</td>\n",
       "      <td>Swiggy</td>\n",
       "    </tr>\n",
       "    <tr>\n",
       "      <th>68</th>\n",
       "      <td>By Flavour Of Southvala Pvt Ltd</td>\n",
       "      <td>29</td>\n",
       "      <td>4.3</td>\n",
       "      <td>300</td>\n",
       "      <td>Mysore Masala Dosa</td>\n",
       "      <td>Swiggy</td>\n",
       "    </tr>\n",
       "    <tr>\n",
       "      <th>70</th>\n",
       "      <td>By Kullhad Chai</td>\n",
       "      <td>36</td>\n",
       "      <td>4.3</td>\n",
       "      <td>200</td>\n",
       "      <td>Mysore Masala Dosa</td>\n",
       "      <td>Swiggy</td>\n",
       "    </tr>\n",
       "    <tr>\n",
       "      <th>74</th>\n",
       "      <td>By Sagar Ratna</td>\n",
       "      <td>27</td>\n",
       "      <td>4.3</td>\n",
       "      <td>245</td>\n",
       "      <td>Mysore Masala Dosa</td>\n",
       "      <td>Swiggy</td>\n",
       "    </tr>\n",
       "    <tr>\n",
       "      <th>76</th>\n",
       "      <td>By Gupta Foods</td>\n",
       "      <td>33</td>\n",
       "      <td>4.0</td>\n",
       "      <td>170</td>\n",
       "      <td>Mysore Masala Dosa</td>\n",
       "      <td>Swiggy</td>\n",
       "    </tr>\n",
       "    <tr>\n",
       "      <th>92</th>\n",
       "      <td>Udupi Upahar</td>\n",
       "      <td>41</td>\n",
       "      <td>4.0</td>\n",
       "      <td>100</td>\n",
       "      <td>Mysore Masala Dosa</td>\n",
       "      <td>Zomata</td>\n",
       "    </tr>\n",
       "    <tr>\n",
       "      <th>110</th>\n",
       "      <td>Haldiram's Restaurant</td>\n",
       "      <td>41</td>\n",
       "      <td>4.0</td>\n",
       "      <td>100</td>\n",
       "      <td>Mysore Masala Dosa</td>\n",
       "      <td>Zomata</td>\n",
       "    </tr>\n",
       "    <tr>\n",
       "      <th>129</th>\n",
       "      <td>Kavali</td>\n",
       "      <td>46</td>\n",
       "      <td>4.1</td>\n",
       "      <td>150</td>\n",
       "      <td>Mysore Masala Dosa</td>\n",
       "      <td>Zomata</td>\n",
       "    </tr>\n",
       "    <tr>\n",
       "      <th>146</th>\n",
       "      <td>Sri Udupi Food Hub</td>\n",
       "      <td>37</td>\n",
       "      <td>4.2</td>\n",
       "      <td>110</td>\n",
       "      <td>Mysore Masala Dosa</td>\n",
       "      <td>Zomata</td>\n",
       "    </tr>\n",
       "    <tr>\n",
       "      <th>147</th>\n",
       "      <td>NaN</td>\n",
       "      <td>37</td>\n",
       "      <td>4.0</td>\n",
       "      <td>110</td>\n",
       "      <td>Mysore Masala Dosa</td>\n",
       "      <td>Zomata</td>\n",
       "    </tr>\n",
       "  </tbody>\n",
       "</table>\n",
       "</div>"
      ],
      "text/plain": [
       "                                    Resturant  Time To Delivery  Rating  Cost  \\\n",
       "10                                   By Saunf                26     4.4   249   \n",
       "11                             By Dosa Planet                22     4.0   300   \n",
       "22                                  By Southy                25     4.1   230   \n",
       "24                                   By Udupi                34     4.3   168   \n",
       "28                     By Madras Coffee House                29     4.1   300   \n",
       "35                             By Southy Cafe                26     4.0   210   \n",
       "38           By Udupi Krishna ( Kamla Nagar )                29     4.5   240   \n",
       "47                        By Gupta Restaurant                27     4.0   170   \n",
       "50                            By Vikrant Cafe                31     4.1   239   \n",
       "52                   By Anna South Indian Hut                32     4.1   150   \n",
       "53               By Chennai South Indian Cafe                30     4.1   150   \n",
       "55   By Shiva Coffee & South Indian Fast Food                28     3.9   230   \n",
       "65                               By Naivedyam                27     4.4   260   \n",
       "66                              By M Gopinath                29     4.2   180   \n",
       "68            By Flavour Of Southvala Pvt Ltd                29     4.3   300   \n",
       "70                            By Kullhad Chai                36     4.3   200   \n",
       "74                             By Sagar Ratna                27     4.3   245   \n",
       "76                             By Gupta Foods                33     4.0   170   \n",
       "92                               Udupi Upahar                41     4.0   100   \n",
       "110                     Haldiram's Restaurant                41     4.0   100   \n",
       "129                                    Kavali                46     4.1   150   \n",
       "146                        Sri Udupi Food Hub                37     4.2   110   \n",
       "147                                       NaN                37     4.0   110   \n",
       "\n",
       "                   Item App Name  \n",
       "10   Mysore Masala Dosa   Swiggy  \n",
       "11   Mysore Masala Dosa   Swiggy  \n",
       "22   Mysore Masala Dosa   Swiggy  \n",
       "24   Mysore Masala Dosa   Swiggy  \n",
       "28   Mysore Masala Dosa   Swiggy  \n",
       "35   Mysore Masala Dosa   Swiggy  \n",
       "38   Mysore Masala Dosa   Swiggy  \n",
       "47   Mysore Masala Dosa   Swiggy  \n",
       "50   Mysore Masala Dosa   Swiggy  \n",
       "52   Mysore Masala Dosa   Swiggy  \n",
       "53   Mysore Masala Dosa   Swiggy  \n",
       "55   Mysore Masala Dosa   Swiggy  \n",
       "65   Mysore Masala Dosa   Swiggy  \n",
       "66   Mysore Masala Dosa   Swiggy  \n",
       "68   Mysore Masala Dosa   Swiggy  \n",
       "70   Mysore Masala Dosa   Swiggy  \n",
       "74   Mysore Masala Dosa   Swiggy  \n",
       "76   Mysore Masala Dosa   Swiggy  \n",
       "92   Mysore Masala Dosa   Zomata  \n",
       "110  Mysore Masala Dosa   Zomata  \n",
       "129  Mysore Masala Dosa   Zomata  \n",
       "146  Mysore Masala Dosa   Zomata  \n",
       "147  Mysore Masala Dosa   Zomata  "
      ]
     },
     "execution_count": 11,
     "metadata": {},
     "output_type": "execute_result"
    }
   ],
   "source": [
    "da.loc[da.duplicated(subset=['Resturant'])]"
   ]
  },
  {
   "cell_type": "code",
   "execution_count": 12,
   "id": "b5a16951",
   "metadata": {},
   "outputs": [
    {
     "data": {
      "text/plain": [
       "Time To Delivery\n",
       "37    18\n",
       "29    11\n",
       "30    11\n",
       "34    10\n",
       "31    10\n",
       "33     8\n",
       "27     6\n",
       "36     6\n",
       "28     6\n",
       "26     6\n",
       "35     5\n",
       "32     5\n",
       "38     4\n",
       "42     4\n",
       "25     4\n",
       "45     4\n",
       "40     4\n",
       "22     3\n",
       "39     3\n",
       "43     3\n",
       "41     3\n",
       "46     2\n",
       "50     2\n",
       "44     2\n",
       "19     1\n",
       "18     1\n",
       "21     1\n",
       "53     1\n",
       "48     1\n",
       "47     1\n",
       "57     1\n",
       "51     1\n",
       "Name: count, dtype: int64"
      ]
     },
     "execution_count": 12,
     "metadata": {},
     "output_type": "execute_result"
    }
   ],
   "source": [
    "\n",
    "#overall the most common delivery time by looking at the value with the highest count\n",
    "da['Time To Delivery'].value_counts()"
   ]
  },
  {
   "cell_type": "code",
   "execution_count": 13,
   "id": "da4dcc8e",
   "metadata": {},
   "outputs": [
    {
     "data": {
      "text/plain": [
       "Cost\n",
       "100    45\n",
       "150    14\n",
       "110    13\n",
       "180     7\n",
       "170     5\n",
       "300     4\n",
       "190     4\n",
       "165     4\n",
       "130     4\n",
       "250     3\n",
       "260     3\n",
       "230     3\n",
       "240     2\n",
       "185     2\n",
       "215     2\n",
       "205     2\n",
       "225     2\n",
       "120     2\n",
       "140     2\n",
       "200     2\n",
       "210     2\n",
       "207     1\n",
       "219     1\n",
       "269     1\n",
       "245     1\n",
       "252     1\n",
       "160     1\n",
       "265     1\n",
       "199     1\n",
       "239     1\n",
       "249     1\n",
       "229     1\n",
       "261     1\n",
       "195     1\n",
       "259     1\n",
       "280     1\n",
       "220     1\n",
       "155     1\n",
       "168     1\n",
       "290     1\n",
       "147     1\n",
       "270     1\n",
       "Name: count, dtype: int64"
      ]
     },
     "execution_count": 13,
     "metadata": {},
     "output_type": "execute_result"
    }
   ],
   "source": [
    "#overall the most common price range by looking at the value with the highest count\n",
    "da['Cost'].value_counts()"
   ]
  },
  {
   "cell_type": "code",
   "execution_count": 14,
   "id": "9f2c2304",
   "metadata": {},
   "outputs": [
    {
     "name": "stdout",
     "output_type": "stream",
     "text": [
      "Average Time to Delivery for Dosa Orders on Zomato: 36.60294117647059\n",
      "Average Time to Delivery for Dosa Orders on Swiggy: 32.075\n"
     ]
    }
   ],
   "source": [
    "#Finding the average delivery time for dosa#\n",
    "# Filter the data Based on tha app\n",
    "zomato_dosa_orders = da[da['App Name'] == 'Zomata']\n",
    "swiggy_dosa_orders = da[da['App Name'] == 'Swiggy']\n",
    "\n",
    "# Calculate the average time to delivery for dosa orders\n",
    "zomato_avg_delivery_time = zomato_dosa_orders['Time To Delivery'].mean()\n",
    "swiggy_avg_delivery_time = swiggy_dosa_orders['Time To Delivery'].mean()\n",
    "\n",
    "# Print the average time to delivery for dosa orders on each platform\n",
    "print(\"Average Time to Delivery for Dosa Orders on Zomato:\", zomato_avg_delivery_time)\n",
    "print(\"Average Time to Delivery for Dosa Orders on Swiggy:\", swiggy_avg_delivery_time)"
   ]
  },
  {
   "cell_type": "code",
   "execution_count": 15,
   "id": "ed111719",
   "metadata": {},
   "outputs": [
    {
     "data": {
      "image/png": "[encoded data removed]",
      "text/plain": [
       "<Figure size 640x480 with 1 Axes>"
      ]
     },
     "metadata": {},
     "output_type": "display_data"
    }
   ],
   "source": [
    "\n",
    "# Define the platforms and their average delivery times\n",
    "platforms = ['Zomato', 'Swiggy']\n",
    "avg_delivery_times = [zomato_avg_delivery_time, swiggy_avg_delivery_time]\n",
    "\n",
    "# Create a bar plot\n",
    "bars = plt.bar(platforms, avg_delivery_times, color=['red', 'orange'])\n",
    "\n",
    "# Add label values inside each bar\n",
    "for bar, time in zip(bars, avg_delivery_times):\n",
    "    plt.text(bar.get_x() + bar.get_width() /2, bar.get_height() - 20, f'{time:.2f}', \n",
    "             ha='center', va='bottom', color='white', fontsize=10)\n",
    "\n",
    "plt.xlabel('Platform')\n",
    "plt.ylabel('Average Time to Delivery (minutes)')\n",
    "plt.title('Comparison of Average Time to Delivery for Dosa Orders(Min)')\n",
    "\n",
    "plt.show()\n"
   ]
  },
  {
   "cell_type": "code",
   "execution_count": 16,
   "id": "eb43e9e6",
   "metadata": {},
   "outputs": [],
   "source": [
    "#Conclusion \n",
    "#Swiggy exhibits a faster delivery time for Dosa orders with an average of 32.075 minutes, compared to Zomato's average \n",
    "#of 36.603 minutes"
   ]
  },
  {
   "cell_type": "code",
   "execution_count": 17,
   "id": "4906879f",
   "metadata": {},
   "outputs": [
    {
     "name": "stdout",
     "output_type": "stream",
     "text": [
      "Average Rating of Dosa Orders on Zomato: 4.06\n",
      "Average Rating of Dosa Orders on Swiggy: 4.15\n"
     ]
    }
   ],
   "source": [
    "#Calculate the average rating of dosa orders\n",
    "zomato_dosa_orders = da[da['App Name'] == 'Zomata']\n",
    "swiggy_dosa_orders = da[da['App Name'] == 'Swiggy']\n",
    "\n",
    "zomato_avg_rating = zomato_dosa_orders['Rating'].mean()\n",
    "swiggy_avg_rating = swiggy_dosa_orders['Rating'].mean()\n",
    "\n",
    "# Print the average rating of dosa orders on each platform\n",
    "print(\"Average Rating of Dosa Orders on Zomato:\", round(zomato_avg_rating,2))\n",
    "print(\"Average Rating of Dosa Orders on Swiggy:\", round(swiggy_avg_rating,2))"
   ]
  },
  {
   "cell_type": "code",
   "execution_count": 18,
   "id": "e0e40363",
   "metadata": {},
   "outputs": [
    {
     "data": {
      "image/png": "[encoded data removed]",
      "text/plain": [
       "<Figure size 640x480 with 1 Axes>"
      ]
     },
     "metadata": {},
     "output_type": "display_data"
    }
   ],
   "source": [
    "# Calculate the average rating of dosa orders\n",
    "platforms = ['Zomato', 'Swiggy']\n",
    "avg_delivery_times = [zomato_avg_rating, swiggy_avg_rating]\n",
    "\n",
    "# Create a bar plot\n",
    "bars = plt.bar(platforms, avg_delivery_times, color=['red', 'orange'])\n",
    "\n",
    "# Add label values inside each bar\n",
    "for bar, time in zip(bars, avg_delivery_times):\n",
    "    plt.text(bar.get_x() + bar.get_width() /2, bar.get_height() - 2, f'{time:.2f}', \n",
    "             ha='center', va='bottom', color='white', fontsize=10)\n",
    "\n",
    "plt.xlabel('Platform')\n",
    "plt.ylabel(' Average Rating Of Dosa Orders')\n",
    "plt.title('Comparison of Average Rating Of Dosa Orders')\n",
    "\n",
    "plt.show()"
   ]
  },
  {
   "cell_type": "code",
   "execution_count": 19,
   "id": "d5b15463",
   "metadata": {},
   "outputs": [],
   "source": [
    "#Conclusion \n",
    "#On average rating , dosa orders on Swiggy receive a slightly higher rating compared to those on Zomato.\n",
    "#The difference between the two averages is approximately 0.09.\n",
    "#Swiggy appears to have a slightly higher average rating, indicating potentially higher customer satisfaction."
   ]
  },
  {
   "cell_type": "code",
   "execution_count": 20,
   "id": "9f204ea4",
   "metadata": {},
   "outputs": [
    {
     "name": "stdout",
     "output_type": "stream",
     "text": [
      "Average Cost of Dosa  on Zomato: 109.8529411764706\n",
      "Average Cost of Dosa  on Swiggy: 203.6\n"
     ]
    }
   ],
   "source": [
    "##Finding the average Cost of dosa#\n",
    "# Filter the data based on the app name\n",
    "zomato_dosa_orders = da[da['App Name'] == 'Zomata']\n",
    "swiggy_dosa_orders = da[da['App Name'] == 'Swiggy']\n",
    "\n",
    "# Calculate the average cost of dosa dishes\n",
    "zomato_avg_cost = zomato_dosa_orders['Cost'].mean()\n",
    "swiggy_avg_cost = swiggy_dosa_orders['Cost'].mean()\n",
    "\n",
    "# Print the average cost of dosa dishes on each platform\n",
    "print(\"Average Cost of Dosa  on Zomato:\", zomato_avg_cost)\n",
    "print(\"Average Cost of Dosa  on Swiggy:\", swiggy_avg_cost)\n"
   ]
  },
  {
   "cell_type": "code",
   "execution_count": 21,
   "id": "a1d363b8",
   "metadata": {},
   "outputs": [
    {
     "data": {
      "image/png": "[encoded data removed]",
      "text/plain": [
       "<Figure size 640x480 with 1 Axes>"
      ]
     },
     "metadata": {},
     "output_type": "display_data"
    }
   ],
   "source": [
    "# Calculate the Average cost of dosa dishes\n",
    "platforms = ['Zomato', 'Swiggy']\n",
    "avg_delivery_times = [zomato_avg_cost,swiggy_avg_cost]\n",
    "\n",
    "# Create a bar plot\n",
    "bars = plt.bar(platforms, avg_delivery_times, color=['red', 'orange'])\n",
    "\n",
    "# Add label values inside each bar\n",
    "for bar, time in zip(bars, avg_delivery_times):\n",
    "    plt.text(bar.get_x() + bar.get_width() /2, bar.get_height() - 75, f'{time:.2f}', \n",
    "             ha='center', va='bottom', color='white', fontsize=10)\n",
    "\n",
    "plt.xlabel('Platform')\n",
    "plt.ylabel('average cost of dosa dishes(RS)')\n",
    "plt.title('Comparison of average cost of dosa dishes(Rs)')\n",
    "\n",
    "plt.show()"
   ]
  },
  {
   "cell_type": "code",
   "execution_count": 22,
   "id": "81505366",
   "metadata": {},
   "outputs": [],
   "source": [
    "#Conclusion\n",
    "#The comparison reveals a significant difference in the average cost of dosa dishes between Zomato and Swiggy. \n",
    "#Dosa dishes on Swiggy are priced notably higher, with an average cost of 203.60RS, compared to 109.85 RS on Zomato.\n",
    "#Swiggy may be perceived as less cost-effective for dosa orders"
   ]
  },
  {
   "cell_type": "code",
   "execution_count": 23,
   "id": "30ed5f71",
   "metadata": {},
   "outputs": [
    {
     "name": "stdout",
     "output_type": "stream",
     "text": [
      "Top Resturants who are having good Rating and deliver Faster:  ['By Bhaja Govindam' 'By Saunf' 'By Southy' 'By Dasaprakash'\n",
      " 'By Madras Coffee House']\n"
     ]
    }
   ],
   "source": [
    "#Minimum 5 restaurant/hotel data for each item you need to get?\n",
    "#Delivery Time factor need to consider?\n",
    "#Rating of restaurant need to consider. Mr. Manoj only Order if rating is equal to or more than 4 star?\n",
    "filtered_data = da[(da['Time To Delivery'] <= 30) & (da['Rating'] > 4)]\n",
    "unique_restaurants = filtered_data['Resturant'].unique()[:5]\n",
    "\n",
    "# Print the unique restaurant names\n",
    "print(\"Top Resturants who are having good Rating and deliver Faster: \",unique_restaurants)"
   ]
  },
  {
   "cell_type": "code",
   "execution_count": 24,
   "id": "074b7cdc",
   "metadata": {},
   "outputs": [
    {
     "data": {
      "text/html": [
       "<div>\n",
       "<style scoped>\n",
       "    .dataframe tbody tr th:only-of-type {\n",
       "        vertical-align: middle;\n",
       "    }\n",
       "\n",
       "    .dataframe tbody tr th {\n",
       "        vertical-align: top;\n",
       "    }\n",
       "\n",
       "    .dataframe thead th {\n",
       "        text-align: right;\n",
       "    }\n",
       "</style>\n",
       "<table border=\"1\" class=\"dataframe\">\n",
       "  <thead>\n",
       "    <tr style=\"text-align: right;\">\n",
       "      <th></th>\n",
       "      <th>Resturant_Name</th>\n",
       "      <th>Time To Delivery</th>\n",
       "      <th>Rating</th>\n",
       "      <th>Item</th>\n",
       "      <th>Cost</th>\n",
       "      <th>App Name</th>\n",
       "    </tr>\n",
       "  </thead>\n",
       "  <tbody>\n",
       "    <tr>\n",
       "      <th>0</th>\n",
       "      <td>By Shri Balaji Dhaba</td>\n",
       "      <td>40</td>\n",
       "      <td>4.2</td>\n",
       "      <td>Paneer Biriyani</td>\n",
       "      <td>170</td>\n",
       "      <td>Swiggy</td>\n",
       "    </tr>\n",
       "    <tr>\n",
       "      <th>1</th>\n",
       "      <td>By Chaap Wale</td>\n",
       "      <td>25</td>\n",
       "      <td>4.3</td>\n",
       "      <td>Paneer Biriyani</td>\n",
       "      <td>140</td>\n",
       "      <td>Swiggy</td>\n",
       "    </tr>\n",
       "    <tr>\n",
       "      <th>2</th>\n",
       "      <td>By Wahid Biryani</td>\n",
       "      <td>40</td>\n",
       "      <td>4.0</td>\n",
       "      <td>Paneer Biriyani</td>\n",
       "      <td>189</td>\n",
       "      <td>Swiggy</td>\n",
       "    </tr>\n",
       "    <tr>\n",
       "      <th>3</th>\n",
       "      <td>By Tainoor Veg &amp; Non Veg Hub</td>\n",
       "      <td>30</td>\n",
       "      <td>3.5</td>\n",
       "      <td>Paneer Biriyani</td>\n",
       "      <td>99</td>\n",
       "      <td>Swiggy</td>\n",
       "    </tr>\n",
       "    <tr>\n",
       "      <th>4</th>\n",
       "      <td>By Dabbu's Rich Tadka</td>\n",
       "      <td>40</td>\n",
       "      <td>4.2</td>\n",
       "      <td>Paneer Biriyani</td>\n",
       "      <td>140</td>\n",
       "      <td>Swiggy</td>\n",
       "    </tr>\n",
       "    <tr>\n",
       "      <th>...</th>\n",
       "      <td>...</td>\n",
       "      <td>...</td>\n",
       "      <td>...</td>\n",
       "      <td>...</td>\n",
       "      <td>...</td>\n",
       "      <td>...</td>\n",
       "    </tr>\n",
       "    <tr>\n",
       "      <th>154</th>\n",
       "      <td>Burmuda Biryani</td>\n",
       "      <td>36</td>\n",
       "      <td>3.6</td>\n",
       "      <td>Paneer Biriyani</td>\n",
       "      <td>200</td>\n",
       "      <td>Zomata</td>\n",
       "    </tr>\n",
       "    <tr>\n",
       "      <th>155</th>\n",
       "      <td>Umpire Chicken County</td>\n",
       "      <td>43</td>\n",
       "      <td>4.0</td>\n",
       "      <td>Paneer Biriyani</td>\n",
       "      <td>200</td>\n",
       "      <td>Zomata</td>\n",
       "    </tr>\n",
       "    <tr>\n",
       "      <th>156</th>\n",
       "      <td>Vinaya Cafe</td>\n",
       "      <td>31</td>\n",
       "      <td>4.3</td>\n",
       "      <td>Paneer Biriyani</td>\n",
       "      <td>200</td>\n",
       "      <td>Zomata</td>\n",
       "    </tr>\n",
       "    <tr>\n",
       "      <th>157</th>\n",
       "      <td>Black Kitchen</td>\n",
       "      <td>44</td>\n",
       "      <td>3.8</td>\n",
       "      <td>Paneer Biriyani</td>\n",
       "      <td>200</td>\n",
       "      <td>Zomata</td>\n",
       "    </tr>\n",
       "    <tr>\n",
       "      <th>158</th>\n",
       "      <td>Kerala Food Club</td>\n",
       "      <td>32</td>\n",
       "      <td>3.9</td>\n",
       "      <td>Paneer Biriyani</td>\n",
       "      <td>200</td>\n",
       "      <td>Zomata</td>\n",
       "    </tr>\n",
       "  </tbody>\n",
       "</table>\n",
       "<p>159 rows × 6 columns</p>\n",
       "</div>"
      ],
      "text/plain": [
       "                   Resturant_Name  Time To Delivery  Rating             Item  \\\n",
       "0            By Shri Balaji Dhaba                40     4.2  Paneer Biriyani   \n",
       "1                   By Chaap Wale                25     4.3  Paneer Biriyani   \n",
       "2                By Wahid Biryani                40     4.0  Paneer Biriyani   \n",
       "3    By Tainoor Veg & Non Veg Hub                30     3.5  Paneer Biriyani   \n",
       "4           By Dabbu's Rich Tadka                40     4.2  Paneer Biriyani   \n",
       "..                            ...               ...     ...              ...   \n",
       "154               Burmuda Biryani                36     3.6  Paneer Biriyani   \n",
       "155         Umpire Chicken County                43     4.0  Paneer Biriyani   \n",
       "156                   Vinaya Cafe                31     4.3  Paneer Biriyani   \n",
       "157                 Black Kitchen                44     3.8  Paneer Biriyani   \n",
       "158              Kerala Food Club                32     3.9  Paneer Biriyani   \n",
       "\n",
       "     Cost App Name  \n",
       "0     170   Swiggy  \n",
       "1     140   Swiggy  \n",
       "2     189   Swiggy  \n",
       "3      99   Swiggy  \n",
       "4     140   Swiggy  \n",
       "..    ...      ...  \n",
       "154   200   Zomata  \n",
       "155   200   Zomata  \n",
       "156   200   Zomata  \n",
       "157   200   Zomata  \n",
       "158   200   Zomata  \n",
       "\n",
       "[159 rows x 6 columns]"
      ]
     },
     "execution_count": 24,
     "metadata": {},
     "output_type": "execute_result"
    }
   ],
   "source": [
    "#Statistics of Paneer Biryani \n",
    "pb=pd.read_csv(\"Cleaned-Combinedata-Paneer_Biriyani.csv\")\n",
    "pb"
   ]
  },
  {
   "cell_type": "code",
   "execution_count": 25,
   "id": "ef2d15ef",
   "metadata": {},
   "outputs": [
    {
     "data": {
      "text/plain": [
       "Index(['Resturant_Name', 'Time To Delivery', 'Rating', 'Item', 'Cost',\n",
       "       'App Name'],\n",
       "      dtype='object')"
      ]
     },
     "execution_count": 25,
     "metadata": {},
     "output_type": "execute_result"
    }
   ],
   "source": [
    "pb.columns"
   ]
  },
  {
   "cell_type": "code",
   "execution_count": 26,
   "id": "c0025a14",
   "metadata": {},
   "outputs": [
    {
     "data": {
      "text/plain": [
       "(159, 6)"
      ]
     },
     "execution_count": 26,
     "metadata": {},
     "output_type": "execute_result"
    }
   ],
   "source": [
    "pb.shape"
   ]
  },
  {
   "cell_type": "code",
   "execution_count": 27,
   "id": "5a2a7848",
   "metadata": {},
   "outputs": [
    {
     "data": {
      "text/html": [
       "<div>\n",
       "<style scoped>\n",
       "    .dataframe tbody tr th:only-of-type {\n",
       "        vertical-align: middle;\n",
       "    }\n",
       "\n",
       "    .dataframe tbody tr th {\n",
       "        vertical-align: top;\n",
       "    }\n",
       "\n",
       "    .dataframe thead th {\n",
       "        text-align: right;\n",
       "    }\n",
       "</style>\n",
       "<table border=\"1\" class=\"dataframe\">\n",
       "  <thead>\n",
       "    <tr style=\"text-align: right;\">\n",
       "      <th></th>\n",
       "      <th>Time To Delivery</th>\n",
       "      <th>Rating</th>\n",
       "      <th>Cost</th>\n",
       "    </tr>\n",
       "  </thead>\n",
       "  <tbody>\n",
       "    <tr>\n",
       "      <th>count</th>\n",
       "      <td>159.000000</td>\n",
       "      <td>159.000000</td>\n",
       "      <td>159.000000</td>\n",
       "    </tr>\n",
       "    <tr>\n",
       "      <th>mean</th>\n",
       "      <td>37.176101</td>\n",
       "      <td>3.932704</td>\n",
       "      <td>223.301887</td>\n",
       "    </tr>\n",
       "    <tr>\n",
       "      <th>std</th>\n",
       "      <td>9.028460</td>\n",
       "      <td>0.595818</td>\n",
       "      <td>92.766329</td>\n",
       "    </tr>\n",
       "    <tr>\n",
       "      <th>min</th>\n",
       "      <td>17.000000</td>\n",
       "      <td>0.000000</td>\n",
       "      <td>90.000000</td>\n",
       "    </tr>\n",
       "    <tr>\n",
       "      <th>25%</th>\n",
       "      <td>31.500000</td>\n",
       "      <td>3.800000</td>\n",
       "      <td>150.000000</td>\n",
       "    </tr>\n",
       "    <tr>\n",
       "      <th>50%</th>\n",
       "      <td>35.000000</td>\n",
       "      <td>4.100000</td>\n",
       "      <td>249.000000</td>\n",
       "    </tr>\n",
       "    <tr>\n",
       "      <th>75%</th>\n",
       "      <td>43.000000</td>\n",
       "      <td>4.250000</td>\n",
       "      <td>250.000000</td>\n",
       "    </tr>\n",
       "    <tr>\n",
       "      <th>max</th>\n",
       "      <td>70.000000</td>\n",
       "      <td>5.000000</td>\n",
       "      <td>699.000000</td>\n",
       "    </tr>\n",
       "  </tbody>\n",
       "</table>\n",
       "</div>"
      ],
      "text/plain": [
       "       Time To Delivery      Rating        Cost\n",
       "count        159.000000  159.000000  159.000000\n",
       "mean          37.176101    3.932704  223.301887\n",
       "std            9.028460    0.595818   92.766329\n",
       "min           17.000000    0.000000   90.000000\n",
       "25%           31.500000    3.800000  150.000000\n",
       "50%           35.000000    4.100000  249.000000\n",
       "75%           43.000000    4.250000  250.000000\n",
       "max           70.000000    5.000000  699.000000"
      ]
     },
     "execution_count": 27,
     "metadata": {},
     "output_type": "execute_result"
    }
   ],
   "source": [
    "pb.describe()"
   ]
  },
  {
   "cell_type": "code",
   "execution_count": 28,
   "id": "91e1710a",
   "metadata": {},
   "outputs": [
    {
     "name": "stdout",
     "output_type": "stream",
     "text": [
      "Resturant_Name      0\n",
      "Time To Delivery    0\n",
      "Rating              0\n",
      "Item                0\n",
      "Cost                0\n",
      "App Name            0\n",
      "dtype: int64\n"
     ]
    }
   ],
   "source": [
    "null_counts = pb.isnull().sum()\n",
    "print(null_counts)"
   ]
  },
  {
   "cell_type": "code",
   "execution_count": 29,
   "id": "b1bbe3d5",
   "metadata": {},
   "outputs": [],
   "source": [
    "#Renamecolumn\n",
    "pb=pb.rename(columns={'Resturant_Name':'Resturant'})"
   ]
  },
  {
   "cell_type": "code",
   "execution_count": 30,
   "id": "ba464cc7",
   "metadata": {},
   "outputs": [
    {
     "data": {
      "text/html": [
       "<div>\n",
       "<style scoped>\n",
       "    .dataframe tbody tr th:only-of-type {\n",
       "        vertical-align: middle;\n",
       "    }\n",
       "\n",
       "    .dataframe tbody tr th {\n",
       "        vertical-align: top;\n",
       "    }\n",
       "\n",
       "    .dataframe thead th {\n",
       "        text-align: right;\n",
       "    }\n",
       "</style>\n",
       "<table border=\"1\" class=\"dataframe\">\n",
       "  <thead>\n",
       "    <tr style=\"text-align: right;\">\n",
       "      <th></th>\n",
       "      <th>Resturant</th>\n",
       "      <th>Time To Delivery</th>\n",
       "      <th>Rating</th>\n",
       "      <th>Item</th>\n",
       "      <th>Cost</th>\n",
       "      <th>App Name</th>\n",
       "    </tr>\n",
       "  </thead>\n",
       "  <tbody>\n",
       "    <tr>\n",
       "      <th>0</th>\n",
       "      <td>By Shri Balaji Dhaba</td>\n",
       "      <td>40</td>\n",
       "      <td>4.2</td>\n",
       "      <td>Paneer Biriyani</td>\n",
       "      <td>170</td>\n",
       "      <td>Swiggy</td>\n",
       "    </tr>\n",
       "    <tr>\n",
       "      <th>1</th>\n",
       "      <td>By Chaap Wale</td>\n",
       "      <td>25</td>\n",
       "      <td>4.3</td>\n",
       "      <td>Paneer Biriyani</td>\n",
       "      <td>140</td>\n",
       "      <td>Swiggy</td>\n",
       "    </tr>\n",
       "    <tr>\n",
       "      <th>2</th>\n",
       "      <td>By Wahid Biryani</td>\n",
       "      <td>40</td>\n",
       "      <td>4.0</td>\n",
       "      <td>Paneer Biriyani</td>\n",
       "      <td>189</td>\n",
       "      <td>Swiggy</td>\n",
       "    </tr>\n",
       "    <tr>\n",
       "      <th>3</th>\n",
       "      <td>By Tainoor Veg &amp; Non Veg Hub</td>\n",
       "      <td>30</td>\n",
       "      <td>3.5</td>\n",
       "      <td>Paneer Biriyani</td>\n",
       "      <td>99</td>\n",
       "      <td>Swiggy</td>\n",
       "    </tr>\n",
       "    <tr>\n",
       "      <th>4</th>\n",
       "      <td>By Dabbu's Rich Tadka</td>\n",
       "      <td>40</td>\n",
       "      <td>4.2</td>\n",
       "      <td>Paneer Biriyani</td>\n",
       "      <td>140</td>\n",
       "      <td>Swiggy</td>\n",
       "    </tr>\n",
       "    <tr>\n",
       "      <th>...</th>\n",
       "      <td>...</td>\n",
       "      <td>...</td>\n",
       "      <td>...</td>\n",
       "      <td>...</td>\n",
       "      <td>...</td>\n",
       "      <td>...</td>\n",
       "    </tr>\n",
       "    <tr>\n",
       "      <th>154</th>\n",
       "      <td>Burmuda Biryani</td>\n",
       "      <td>36</td>\n",
       "      <td>3.6</td>\n",
       "      <td>Paneer Biriyani</td>\n",
       "      <td>200</td>\n",
       "      <td>Zomata</td>\n",
       "    </tr>\n",
       "    <tr>\n",
       "      <th>155</th>\n",
       "      <td>Umpire Chicken County</td>\n",
       "      <td>43</td>\n",
       "      <td>4.0</td>\n",
       "      <td>Paneer Biriyani</td>\n",
       "      <td>200</td>\n",
       "      <td>Zomata</td>\n",
       "    </tr>\n",
       "    <tr>\n",
       "      <th>156</th>\n",
       "      <td>Vinaya Cafe</td>\n",
       "      <td>31</td>\n",
       "      <td>4.3</td>\n",
       "      <td>Paneer Biriyani</td>\n",
       "      <td>200</td>\n",
       "      <td>Zomata</td>\n",
       "    </tr>\n",
       "    <tr>\n",
       "      <th>157</th>\n",
       "      <td>Black Kitchen</td>\n",
       "      <td>44</td>\n",
       "      <td>3.8</td>\n",
       "      <td>Paneer Biriyani</td>\n",
       "      <td>200</td>\n",
       "      <td>Zomata</td>\n",
       "    </tr>\n",
       "    <tr>\n",
       "      <th>158</th>\n",
       "      <td>Kerala Food Club</td>\n",
       "      <td>32</td>\n",
       "      <td>3.9</td>\n",
       "      <td>Paneer Biriyani</td>\n",
       "      <td>200</td>\n",
       "      <td>Zomata</td>\n",
       "    </tr>\n",
       "  </tbody>\n",
       "</table>\n",
       "<p>159 rows × 6 columns</p>\n",
       "</div>"
      ],
      "text/plain": [
       "                        Resturant  Time To Delivery  Rating             Item  \\\n",
       "0            By Shri Balaji Dhaba                40     4.2  Paneer Biriyani   \n",
       "1                   By Chaap Wale                25     4.3  Paneer Biriyani   \n",
       "2                By Wahid Biryani                40     4.0  Paneer Biriyani   \n",
       "3    By Tainoor Veg & Non Veg Hub                30     3.5  Paneer Biriyani   \n",
       "4           By Dabbu's Rich Tadka                40     4.2  Paneer Biriyani   \n",
       "..                            ...               ...     ...              ...   \n",
       "154               Burmuda Biryani                36     3.6  Paneer Biriyani   \n",
       "155         Umpire Chicken County                43     4.0  Paneer Biriyani   \n",
       "156                   Vinaya Cafe                31     4.3  Paneer Biriyani   \n",
       "157                 Black Kitchen                44     3.8  Paneer Biriyani   \n",
       "158              Kerala Food Club                32     3.9  Paneer Biriyani   \n",
       "\n",
       "     Cost App Name  \n",
       "0     170   Swiggy  \n",
       "1     140   Swiggy  \n",
       "2     189   Swiggy  \n",
       "3      99   Swiggy  \n",
       "4     140   Swiggy  \n",
       "..    ...      ...  \n",
       "154   200   Zomata  \n",
       "155   200   Zomata  \n",
       "156   200   Zomata  \n",
       "157   200   Zomata  \n",
       "158   200   Zomata  \n",
       "\n",
       "[159 rows x 6 columns]"
      ]
     },
     "execution_count": 30,
     "metadata": {},
     "output_type": "execute_result"
    }
   ],
   "source": [
    "pb"
   ]
  },
  {
   "cell_type": "code",
   "execution_count": 31,
   "id": "65310cb3",
   "metadata": {},
   "outputs": [
    {
     "name": "stdout",
     "output_type": "stream",
     "text": [
      "Average Time to Delivery for paneer biriyani Orders on Zomato: 35.392405063291136\n",
      "Average Time to Delivery for paneer biriyani Orders on Swiggy: 38.9375\n"
     ]
    }
   ],
   "source": [
    "##Finding the average delivery time for paneer biriyani#\n",
    "# Filter the data Based on tha app\n",
    "paneer_biriyani_Zomata= pb[pb['App Name'] == 'Zomata']\n",
    "paneer_biriyani_Swiggy= pb[pb['App Name'] == 'Swiggy']\n",
    "\n",
    "# Calculate the average time to delivery for paneer biriyani orders\n",
    "zomato_avg_delivery_time =paneer_biriyani_Zomata['Time To Delivery'].mean()\n",
    "swiggy_avg_delivery_time =paneer_biriyani_Swiggy['Time To Delivery'].mean()\n",
    "\n",
    "# Print the average time to delivery for dosa orders on each platform\n",
    "print(\"Average Time to Delivery for paneer biriyani Orders on Zomato:\", zomato_avg_delivery_time)\n",
    "print(\"Average Time to Delivery for paneer biriyani Orders on Swiggy:\", swiggy_avg_delivery_time)"
   ]
  },
  {
   "cell_type": "code",
   "execution_count": 32,
   "id": "38c1b44e",
   "metadata": {
    "scrolled": true
   },
   "outputs": [
    {
     "data": {
      "image/png": "[encoded data removed]",
      "text/plain": [
       "<Figure size 640x480 with 1 Axes>"
      ]
     },
     "metadata": {},
     "output_type": "display_data"
    }
   ],
   "source": [
    "###Finding the average delivery time for paneer biriyani#\n",
    "platforms = ['Zomato', 'Swiggy']\n",
    "avg_delivery_times = [zomato_avg_delivery_time, swiggy_avg_delivery_time]\n",
    "\n",
    "\n",
    "bars = plt.bar(platforms, avg_delivery_times, color=['red', 'orange'])\n",
    "\n",
    "\n",
    "for bar, time in zip(bars, avg_delivery_times):\n",
    "    plt.text(bar.get_x() + bar.get_width() /2, bar.get_height() -20, f'{time:.2f}', \n",
    "             ha='center', va='bottom', color='white', fontsize=10)\n",
    "\n",
    "plt.xlabel('Platform')\n",
    "plt.ylabel('Average Time to Delivery (minutes)')\n",
    "plt.title('Comparison of Average Time to Delivery for paneer biriyani Orders')\n",
    "plt.show()"
   ]
  },
  {
   "cell_type": "code",
   "execution_count": 33,
   "id": "d47db68c",
   "metadata": {},
   "outputs": [],
   "source": [
    "#CONCLUSION\n",
    "#The comparison indicates that paneer biryani orders are delivered faster on Zomato, with an average delivery \n",
    "#time of 35.39 minutes,compared to Swiggy's average delivery time of 38.94 minutes."
   ]
  },
  {
   "cell_type": "code",
   "execution_count": 34,
   "id": "0154ef4e",
   "metadata": {},
   "outputs": [
    {
     "name": "stdout",
     "output_type": "stream",
     "text": [
      "Average Rating to Delivery for paneer biriyani Orders on Zomato: 3.839240506329114\n",
      "Average Rating to Delivery for paneer biriyani Orders on Swiggy: 4.025\n"
     ]
    }
   ],
   "source": [
    "#Average Rating of paneer biryani\n",
    "# Filter the data Based on tha app\n",
    "paneer_biriyani_Zomata= pb[pb['App Name'] == 'Zomata']\n",
    "paneer_biriyani_Swiggy= pb[pb['App Name'] == 'Swiggy']\n",
    "\n",
    "# Calculate the average Rating to delivery for paneer biriyani orders\n",
    "zomato_avg_delivery_time =paneer_biriyani_Zomata['Rating'].mean()\n",
    "swiggy_avg_delivery_time =paneer_biriyani_Swiggy['Rating'].mean()\n",
    "\n",
    "# Print the average Rating to delivery for dosa orders on each platform\n",
    "print(\"Average Rating to Delivery for paneer biriyani Orders on Zomato:\", zomato_avg_delivery_time)\n",
    "print(\"Average Rating to Delivery for paneer biriyani Orders on Swiggy:\", swiggy_avg_delivery_time)"
   ]
  },
  {
   "cell_type": "code",
   "execution_count": 35,
   "id": "c1287f4f",
   "metadata": {},
   "outputs": [
    {
     "data": {
      "image/png": "[encoded data removed]",
      "text/plain": [
       "<Figure size 640x480 with 1 Axes>"
      ]
     },
     "metadata": {},
     "output_type": "display_data"
    }
   ],
   "source": [
    "# Define the platforms and their average Average Rating\n",
    "platforms = ['Zomato', 'Swiggy']\n",
    "avg_delivery_times = [zomato_avg_delivery_time, swiggy_avg_delivery_time]\n",
    "\n",
    "\n",
    "bars = plt.bar(platforms, avg_delivery_times, color=['red', 'orange'])\n",
    "\n",
    "\n",
    "for bar, time in zip(bars, avg_delivery_times):\n",
    "    plt.text(bar.get_x() + bar.get_width() /2, bar.get_height() - 2, f'{time:.2f}', \n",
    "             ha='center', va='bottom', color='white', fontsize=10)\n",
    "\n",
    "plt.xlabel('Platform')\n",
    "plt.ylabel('Average Rating')\n",
    "plt.title('Comparison of Average Rating  for paneer biriyani Orders')\n",
    "plt.show()"
   ]
  },
  {
   "cell_type": "code",
   "execution_count": 36,
   "id": "c685a9c2",
   "metadata": {},
   "outputs": [],
   "source": [
    "#CONCLUSION\n",
    "#The comparison suggests that paneer biryani orders on Swiggy have a slightly higher average rating to delivery time ratio \n",
    "#(4.025) compared to Zomato (3.839). This implies Swiggy may offer better balance between delivery speed and customer \n",
    "#satisfaction for paneer biryani orders"
   ]
  },
  {
   "cell_type": "code",
   "execution_count": 37,
   "id": "b98e9046",
   "metadata": {},
   "outputs": [
    {
     "name": "stdout",
     "output_type": "stream",
     "text": [
      "Average Cost Of Paneer  Biriyani on Zomato: 209.49367088607596\n",
      "Average Cost Of Paneer  Biriyani on Swiggy: 236.9375\n"
     ]
    }
   ],
   "source": [
    "#Avg Cost of paneer Biriyani\n",
    "# Filter the data Based on tha app\n",
    "paneer_biriyani_Zomata= pb[pb['App Name'] == 'Zomata']\n",
    "paneer_biriyani_Swiggy= pb[pb['App Name'] == 'Swiggy']\n",
    "\n",
    "# Calculate the Average Cost Of Paneer  Biriyani orders\n",
    "zomato_avg_delivery_time =paneer_biriyani_Zomata['Cost'].mean()\n",
    "swiggy_avg_delivery_time =paneer_biriyani_Swiggy['Cost'].mean()\n",
    "\n",
    "# Print the Cost on each platform\n",
    "print(\"Average Cost Of Paneer  Biriyani on Zomato:\", zomato_avg_delivery_time)\n",
    "print(\"Average Cost Of Paneer  Biriyani on Swiggy:\", swiggy_avg_delivery_time)"
   ]
  },
  {
   "cell_type": "code",
   "execution_count": 38,
   "id": "d697f9ab",
   "metadata": {},
   "outputs": [
    {
     "data": {
      "image/png": "[encoded data removed]",
      "text/plain": [
       "<Figure size 640x480 with 1 Axes>"
      ]
     },
     "metadata": {},
     "output_type": "display_data"
    }
   ],
   "source": [
    "# Define the platforms and their average Cost of paneer Biriyani\n",
    "platforms = ['Zomato', 'Swiggy']\n",
    "avg_delivery_times = [zomato_avg_delivery_time, swiggy_avg_delivery_time]\n",
    "\n",
    "\n",
    "bars = plt.bar(platforms, avg_delivery_times, color=['red', 'orange'])\n",
    "\n",
    "\n",
    "for bar, time in zip(bars, avg_delivery_times):\n",
    "    plt.text(bar.get_x() + bar.get_width() /2, bar.get_height() -120, f'{time:.2f}', \n",
    "             ha='center', va='bottom', color='white', fontsize=10)\n",
    "\n",
    "plt.xlabel('Platform')\n",
    "plt.ylabel('Average Rating')\n",
    "plt.title('Comparison of Avg Cost of paneer Biriyani')\n",
    "plt.show()"
   ]
  },
  {
   "cell_type": "code",
   "execution_count": 39,
   "id": "8cf6edd2",
   "metadata": {},
   "outputs": [],
   "source": [
    "#CONCLUSION\n",
    "#Swiggy's average cost for paneer biryani is higher than Zomato's, indicating potential differences in pricing strategies\n",
    "# or menu offerings between the platforms"
   ]
  },
  {
   "cell_type": "code",
   "execution_count": 40,
   "id": "39841fca",
   "metadata": {},
   "outputs": [],
   "source": [
    "#Minimum 5 restaurant/hotel data for each item you need to get?(ASSIGNMENT QUESTION)\n",
    "#Delivery Time factor need to consider?\n",
    "#Rating of restaurant need to consider. Mr. Manoj only Order if rating is equal to or more than 4 star?"
   ]
  },
  {
   "cell_type": "code",
   "execution_count": 41,
   "id": "b395a80e",
   "metadata": {},
   "outputs": [
    {
     "name": "stdout",
     "output_type": "stream",
     "text": [
      "Top Resturants who are having good Rating and deliver Faster:  ['By Chaap Wale' \"By Masha'S Cafe & Restaurant\" 'By Spicy Treat'\n",
      " 'By Mashi Biryani World' 'By Janvi Veg Corner']\n"
     ]
    }
   ],
   "source": [
    "filtered_data = pb[(pb['Time To Delivery'] <= 30) & (pb['Rating'] > 4)]\n",
    "unique_restaurants = filtered_data['Resturant'].unique()[:5]\n",
    "\n",
    "# Print the unique restaurant names\n",
    "print(\"Top Resturants who are having good Rating and deliver Faster: \",unique_restaurants)"
   ]
  },
  {
   "cell_type": "code",
   "execution_count": 42,
   "id": "995e5f69",
   "metadata": {},
   "outputs": [
    {
     "data": {
      "text/html": [
       "<div>\n",
       "<style scoped>\n",
       "    .dataframe tbody tr th:only-of-type {\n",
       "        vertical-align: middle;\n",
       "    }\n",
       "\n",
       "    .dataframe tbody tr th {\n",
       "        vertical-align: top;\n",
       "    }\n",
       "\n",
       "    .dataframe thead th {\n",
       "        text-align: right;\n",
       "    }\n",
       "</style>\n",
       "<table border=\"1\" class=\"dataframe\">\n",
       "  <thead>\n",
       "    <tr style=\"text-align: right;\">\n",
       "      <th></th>\n",
       "      <th>Resturant_Name</th>\n",
       "      <th>Time To Delivery</th>\n",
       "      <th>Rating</th>\n",
       "      <th>Item</th>\n",
       "      <th>Cost</th>\n",
       "      <th>App Name</th>\n",
       "    </tr>\n",
       "  </thead>\n",
       "  <tbody>\n",
       "    <tr>\n",
       "      <th>0</th>\n",
       "      <td>By Food Carnival</td>\n",
       "      <td>20</td>\n",
       "      <td>4.3</td>\n",
       "      <td>Pav Bhaji</td>\n",
       "      <td>149</td>\n",
       "      <td>Swiggy</td>\n",
       "    </tr>\n",
       "    <tr>\n",
       "      <th>1</th>\n",
       "      <td>By Foodoo Hub</td>\n",
       "      <td>40</td>\n",
       "      <td>4.2</td>\n",
       "      <td>Pav Bhaji</td>\n",
       "      <td>135</td>\n",
       "      <td>Swiggy</td>\n",
       "    </tr>\n",
       "    <tr>\n",
       "      <th>2</th>\n",
       "      <td>By Shukla Bhojnalay</td>\n",
       "      <td>45</td>\n",
       "      <td>4.3</td>\n",
       "      <td>Pav Bhaji</td>\n",
       "      <td>142</td>\n",
       "      <td>Swiggy</td>\n",
       "    </tr>\n",
       "    <tr>\n",
       "      <th>3</th>\n",
       "      <td>By Kailash Fast Food By Kailash Mishthan Bhandar</td>\n",
       "      <td>30</td>\n",
       "      <td>4.2</td>\n",
       "      <td>Pav Bhaji</td>\n",
       "      <td>119</td>\n",
       "      <td>Swiggy</td>\n",
       "    </tr>\n",
       "    <tr>\n",
       "      <th>4</th>\n",
       "      <td>By New Mogli Sweets Fast Food &amp; Bhojanalay</td>\n",
       "      <td>45</td>\n",
       "      <td>4.1</td>\n",
       "      <td>Pav Bhaji</td>\n",
       "      <td>120</td>\n",
       "      <td>Swiggy</td>\n",
       "    </tr>\n",
       "    <tr>\n",
       "      <th>...</th>\n",
       "      <td>...</td>\n",
       "      <td>...</td>\n",
       "      <td>...</td>\n",
       "      <td>...</td>\n",
       "      <td>...</td>\n",
       "      <td>...</td>\n",
       "    </tr>\n",
       "    <tr>\n",
       "      <th>154</th>\n",
       "      <td>Pizza Hut</td>\n",
       "      <td>30</td>\n",
       "      <td>3.9</td>\n",
       "      <td>Pav Bhaji</td>\n",
       "      <td>172</td>\n",
       "      <td>Zomata</td>\n",
       "    </tr>\n",
       "    <tr>\n",
       "      <th>155</th>\n",
       "      <td>A2B - Adyar Ananda Bhavan</td>\n",
       "      <td>30</td>\n",
       "      <td>4.3</td>\n",
       "      <td>Pav Bhaji</td>\n",
       "      <td>172</td>\n",
       "      <td>Zomata</td>\n",
       "    </tr>\n",
       "    <tr>\n",
       "      <th>156</th>\n",
       "      <td>Meghana Foods</td>\n",
       "      <td>30</td>\n",
       "      <td>4.4</td>\n",
       "      <td>Pav Bhaji</td>\n",
       "      <td>172</td>\n",
       "      <td>Zomata</td>\n",
       "    </tr>\n",
       "    <tr>\n",
       "      <th>157</th>\n",
       "      <td>La Pino'z Pizza</td>\n",
       "      <td>30</td>\n",
       "      <td>4.0</td>\n",
       "      <td>Pav Bhaji</td>\n",
       "      <td>172</td>\n",
       "      <td>Zomata</td>\n",
       "    </tr>\n",
       "    <tr>\n",
       "      <th>158</th>\n",
       "      <td>Andhra Gunpowder</td>\n",
       "      <td>30</td>\n",
       "      <td>4.3</td>\n",
       "      <td>Pav Bhaji</td>\n",
       "      <td>172</td>\n",
       "      <td>Zomata</td>\n",
       "    </tr>\n",
       "  </tbody>\n",
       "</table>\n",
       "<p>159 rows × 6 columns</p>\n",
       "</div>"
      ],
      "text/plain": [
       "                                       Resturant_Name  Time To Delivery  \\\n",
       "0                                    By Food Carnival                20   \n",
       "1                                       By Foodoo Hub                40   \n",
       "2                                 By Shukla Bhojnalay                45   \n",
       "3    By Kailash Fast Food By Kailash Mishthan Bhandar                30   \n",
       "4          By New Mogli Sweets Fast Food & Bhojanalay                45   \n",
       "..                                                ...               ...   \n",
       "154                                         Pizza Hut                30   \n",
       "155                         A2B - Adyar Ananda Bhavan                30   \n",
       "156                                     Meghana Foods                30   \n",
       "157                                   La Pino'z Pizza                30   \n",
       "158                                  Andhra Gunpowder                30   \n",
       "\n",
       "     Rating       Item  Cost App Name  \n",
       "0       4.3  Pav Bhaji   149   Swiggy  \n",
       "1       4.2  Pav Bhaji   135   Swiggy  \n",
       "2       4.3  Pav Bhaji   142   Swiggy  \n",
       "3       4.2  Pav Bhaji   119   Swiggy  \n",
       "4       4.1  Pav Bhaji   120   Swiggy  \n",
       "..      ...        ...   ...      ...  \n",
       "154     3.9  Pav Bhaji   172   Zomata  \n",
       "155     4.3  Pav Bhaji   172   Zomata  \n",
       "156     4.4  Pav Bhaji   172   Zomata  \n",
       "157     4.0  Pav Bhaji   172   Zomata  \n",
       "158     4.3  Pav Bhaji   172   Zomata  \n",
       "\n",
       "[159 rows x 6 columns]"
      ]
     },
     "execution_count": 42,
     "metadata": {},
     "output_type": "execute_result"
    }
   ],
   "source": [
    "#Pav Bhaji Comparision\n",
    "pv=pd.read_csv(\"Cleaned-Combinedata-Pav Bhaji .csv\")\n",
    "pv"
   ]
  },
  {
   "cell_type": "code",
   "execution_count": 43,
   "id": "cc57e878",
   "metadata": {},
   "outputs": [
    {
     "data": {
      "text/plain": [
       "(159, 6)"
      ]
     },
     "execution_count": 43,
     "metadata": {},
     "output_type": "execute_result"
    }
   ],
   "source": [
    "pv.shape"
   ]
  },
  {
   "cell_type": "code",
   "execution_count": 44,
   "id": "167b9304",
   "metadata": {},
   "outputs": [
    {
     "data": {
      "text/html": [
       "<div>\n",
       "<style scoped>\n",
       "    .dataframe tbody tr th:only-of-type {\n",
       "        vertical-align: middle;\n",
       "    }\n",
       "\n",
       "    .dataframe tbody tr th {\n",
       "        vertical-align: top;\n",
       "    }\n",
       "\n",
       "    .dataframe thead th {\n",
       "        text-align: right;\n",
       "    }\n",
       "</style>\n",
       "<table border=\"1\" class=\"dataframe\">\n",
       "  <thead>\n",
       "    <tr style=\"text-align: right;\">\n",
       "      <th></th>\n",
       "      <th>Time To Delivery</th>\n",
       "      <th>Rating</th>\n",
       "      <th>Cost</th>\n",
       "    </tr>\n",
       "  </thead>\n",
       "  <tbody>\n",
       "    <tr>\n",
       "      <th>count</th>\n",
       "      <td>159.000000</td>\n",
       "      <td>159.000000</td>\n",
       "      <td>159.000000</td>\n",
       "    </tr>\n",
       "    <tr>\n",
       "      <th>mean</th>\n",
       "      <td>37.836478</td>\n",
       "      <td>3.672956</td>\n",
       "      <td>152.861635</td>\n",
       "    </tr>\n",
       "    <tr>\n",
       "      <th>std</th>\n",
       "      <td>17.214166</td>\n",
       "      <td>0.602178</td>\n",
       "      <td>38.331743</td>\n",
       "    </tr>\n",
       "    <tr>\n",
       "      <th>min</th>\n",
       "      <td>3.000000</td>\n",
       "      <td>2.000000</td>\n",
       "      <td>70.000000</td>\n",
       "    </tr>\n",
       "    <tr>\n",
       "      <th>25%</th>\n",
       "      <td>30.000000</td>\n",
       "      <td>3.100000</td>\n",
       "      <td>132.500000</td>\n",
       "    </tr>\n",
       "    <tr>\n",
       "      <th>50%</th>\n",
       "      <td>40.000000</td>\n",
       "      <td>3.900000</td>\n",
       "      <td>150.000000</td>\n",
       "    </tr>\n",
       "    <tr>\n",
       "      <th>75%</th>\n",
       "      <td>50.000000</td>\n",
       "      <td>4.100000</td>\n",
       "      <td>167.500000</td>\n",
       "    </tr>\n",
       "    <tr>\n",
       "      <th>max</th>\n",
       "      <td>70.000000</td>\n",
       "      <td>5.000000</td>\n",
       "      <td>250.000000</td>\n",
       "    </tr>\n",
       "  </tbody>\n",
       "</table>\n",
       "</div>"
      ],
      "text/plain": [
       "       Time To Delivery      Rating        Cost\n",
       "count        159.000000  159.000000  159.000000\n",
       "mean          37.836478    3.672956  152.861635\n",
       "std           17.214166    0.602178   38.331743\n",
       "min            3.000000    2.000000   70.000000\n",
       "25%           30.000000    3.100000  132.500000\n",
       "50%           40.000000    3.900000  150.000000\n",
       "75%           50.000000    4.100000  167.500000\n",
       "max           70.000000    5.000000  250.000000"
      ]
     },
     "execution_count": 44,
     "metadata": {},
     "output_type": "execute_result"
    }
   ],
   "source": [
    "pv.describe()"
   ]
  },
  {
   "cell_type": "code",
   "execution_count": 45,
   "id": "2593c12a",
   "metadata": {},
   "outputs": [
    {
     "data": {
      "text/plain": [
       "Resturant_Name      1\n",
       "Time To Delivery    0\n",
       "Rating              0\n",
       "Item                0\n",
       "Cost                0\n",
       "App Name            0\n",
       "dtype: int64"
      ]
     },
     "execution_count": 45,
     "metadata": {},
     "output_type": "execute_result"
    }
   ],
   "source": [
    "pv.isnull().sum()"
   ]
  },
  {
   "cell_type": "code",
   "execution_count": 46,
   "id": "29610e6a",
   "metadata": {},
   "outputs": [],
   "source": [
    "#Renamecolumn\n",
    "pv=pv.rename(columns={'Resturant_Name':'Resturant'})"
   ]
  },
  {
   "cell_type": "code",
   "execution_count": 47,
   "id": "dfdd4a0e",
   "metadata": {},
   "outputs": [
    {
     "data": {
      "text/html": [
       "<div>\n",
       "<style scoped>\n",
       "    .dataframe tbody tr th:only-of-type {\n",
       "        vertical-align: middle;\n",
       "    }\n",
       "\n",
       "    .dataframe tbody tr th {\n",
       "        vertical-align: top;\n",
       "    }\n",
       "\n",
       "    .dataframe thead th {\n",
       "        text-align: right;\n",
       "    }\n",
       "</style>\n",
       "<table border=\"1\" class=\"dataframe\">\n",
       "  <thead>\n",
       "    <tr style=\"text-align: right;\">\n",
       "      <th></th>\n",
       "      <th>Resturant</th>\n",
       "      <th>Time To Delivery</th>\n",
       "      <th>Rating</th>\n",
       "      <th>Item</th>\n",
       "      <th>Cost</th>\n",
       "      <th>App Name</th>\n",
       "    </tr>\n",
       "  </thead>\n",
       "  <tbody>\n",
       "    <tr>\n",
       "      <th>0</th>\n",
       "      <td>By Food Carnival</td>\n",
       "      <td>20</td>\n",
       "      <td>4.3</td>\n",
       "      <td>Pav Bhaji</td>\n",
       "      <td>149</td>\n",
       "      <td>Swiggy</td>\n",
       "    </tr>\n",
       "    <tr>\n",
       "      <th>1</th>\n",
       "      <td>By Foodoo Hub</td>\n",
       "      <td>40</td>\n",
       "      <td>4.2</td>\n",
       "      <td>Pav Bhaji</td>\n",
       "      <td>135</td>\n",
       "      <td>Swiggy</td>\n",
       "    </tr>\n",
       "    <tr>\n",
       "      <th>2</th>\n",
       "      <td>By Shukla Bhojnalay</td>\n",
       "      <td>45</td>\n",
       "      <td>4.3</td>\n",
       "      <td>Pav Bhaji</td>\n",
       "      <td>142</td>\n",
       "      <td>Swiggy</td>\n",
       "    </tr>\n",
       "    <tr>\n",
       "      <th>3</th>\n",
       "      <td>By Kailash Fast Food By Kailash Mishthan Bhandar</td>\n",
       "      <td>30</td>\n",
       "      <td>4.2</td>\n",
       "      <td>Pav Bhaji</td>\n",
       "      <td>119</td>\n",
       "      <td>Swiggy</td>\n",
       "    </tr>\n",
       "    <tr>\n",
       "      <th>4</th>\n",
       "      <td>By New Mogli Sweets Fast Food &amp; Bhojanalay</td>\n",
       "      <td>45</td>\n",
       "      <td>4.1</td>\n",
       "      <td>Pav Bhaji</td>\n",
       "      <td>120</td>\n",
       "      <td>Swiggy</td>\n",
       "    </tr>\n",
       "  </tbody>\n",
       "</table>\n",
       "</div>"
      ],
      "text/plain": [
       "                                          Resturant  Time To Delivery  Rating  \\\n",
       "0                                  By Food Carnival                20     4.3   \n",
       "1                                     By Foodoo Hub                40     4.2   \n",
       "2                               By Shukla Bhojnalay                45     4.3   \n",
       "3  By Kailash Fast Food By Kailash Mishthan Bhandar                30     4.2   \n",
       "4        By New Mogli Sweets Fast Food & Bhojanalay                45     4.1   \n",
       "\n",
       "        Item  Cost App Name  \n",
       "0  Pav Bhaji   149   Swiggy  \n",
       "1  Pav Bhaji   135   Swiggy  \n",
       "2  Pav Bhaji   142   Swiggy  \n",
       "3  Pav Bhaji   119   Swiggy  \n",
       "4  Pav Bhaji   120   Swiggy  "
      ]
     },
     "execution_count": 47,
     "metadata": {},
     "output_type": "execute_result"
    }
   ],
   "source": [
    "pv.head(5)"
   ]
  },
  {
   "cell_type": "code",
   "execution_count": 48,
   "id": "213633ec",
   "metadata": {},
   "outputs": [
    {
     "name": "stdout",
     "output_type": "stream",
     "text": [
      "Average Time to Delivery for PavBhaji Orders on Zomato: 30.0126582278481\n",
      "Average Time to Delivery for PavBhaji Orders on Swiggy: 45.5625\n"
     ]
    }
   ],
   "source": [
    "###Finding the average delivery time for PavBhaji#\n",
    "zomato_PavBhaji_orders = pv[pv['App Name'] == 'Zomata']\n",
    "swiggy_PavBhaji_orders = pv[pv['App Name'] == 'Swiggy']\n",
    "\n",
    "# Calculate the average time to delivery for Pav Bhaji orders\n",
    "zomato_avg_delivery_time = zomato_PavBhaji_orders['Time To Delivery'].mean()\n",
    "swiggy_avg_delivery_time = swiggy_PavBhaji_orders['Time To Delivery'].mean()\n",
    "\n",
    "# Print the average time to delivery for dosa orders on each platform\n",
    "print(\"Average Time to Delivery for PavBhaji Orders on Zomato:\", zomato_avg_delivery_time)\n",
    "print(\"Average Time to Delivery for PavBhaji Orders on Swiggy:\", swiggy_avg_delivery_time)"
   ]
  },
  {
   "cell_type": "code",
   "execution_count": 49,
   "id": "7f746f48",
   "metadata": {},
   "outputs": [
    {
     "data": {
      "image/png": "[encoded data removed]",
      "text/plain": [
       "<Figure size 640x480 with 1 Axes>"
      ]
     },
     "metadata": {},
     "output_type": "display_data"
    }
   ],
   "source": [
    "# Define the platforms and their average time to delivery for Pav Bhaji\n",
    "platforms = ['Zomato', 'Swiggy']\n",
    "avg_delivery_times = [zomato_avg_delivery_time, swiggy_avg_delivery_time]\n",
    "\n",
    "# Create a bar plot\n",
    "bars = plt.bar(platforms, avg_delivery_times, color=['red', 'orange'])\n",
    "\n",
    "# Add label values inside each bar\n",
    "for bar, time in zip(bars, avg_delivery_times):\n",
    "    plt.text(bar.get_x() + bar.get_width() /2, bar.get_height() - 15, f'{time:.2f}', \n",
    "             ha='center', va='bottom', color='white', fontsize=10)\n",
    "\n",
    "plt.xlabel('Platform')\n",
    "plt.ylabel('Average Time to Delivery (minutes)')\n",
    "plt.title('Comparison of Average Time to Delivery for PavBhaji Orders(Min)')\n",
    "\n",
    "plt.show()\n"
   ]
  },
  {
   "cell_type": "code",
   "execution_count": 50,
   "id": "2804df03",
   "metadata": {},
   "outputs": [],
   "source": [
    "#CONCLUSION\n",
    "#Swiggy exhibits significantly longer delivery times for Pav Bhaji orders with an average of 45.56 minutes, compared to \n",
    "#Zomato's 30.01 minutes"
   ]
  },
  {
   "cell_type": "code",
   "execution_count": 51,
   "id": "8e3772c2",
   "metadata": {},
   "outputs": [
    {
     "name": "stdout",
     "output_type": "stream",
     "text": [
      "Average Rating for Pav Bhaji Orders on Zomato: 3.3797468354430378\n",
      "Average Rating for Pav Bhaji Orders on Swiggy: 3.9625\n"
     ]
    }
   ],
   "source": [
    "# ###Finding the Average Rating for Pav Bhaji\n",
    "zomato_PavBhaji_orders = pv[pv['App Name'] == 'Zomata']\n",
    "swiggy_PavBhaji_orders = pv[pv['App Name'] == 'Swiggy']\n",
    "\n",
    "# Calculate the average Rating for Pav Bhaji orders\n",
    "zomato_avg_delivery_time = zomato_PavBhaji_orders['Rating'].mean()\n",
    "swiggy_avg_delivery_time = swiggy_PavBhaji_orders['Rating'].mean()\n",
    "\n",
    "# Print the average time to delivery for dosa orders on each platform\n",
    "print(\"Average Rating for Pav Bhaji Orders on Zomato:\", zomato_avg_delivery_time)\n",
    "print(\"Average Rating for Pav Bhaji Orders on Swiggy:\", swiggy_avg_delivery_time)"
   ]
  },
  {
   "cell_type": "code",
   "execution_count": 52,
   "id": "345d9caa",
   "metadata": {},
   "outputs": [
    {
     "data": {
      "image/png": "[encoded data removed]",
      "text/plain": [
       "<Figure size 640x480 with 1 Axes>"
      ]
     },
     "metadata": {},
     "output_type": "display_data"
    }
   ],
   "source": [
    "# Define the platforms and their average rating Pav Bhaji \n",
    "platforms = ['Zomato', 'Swiggy']\n",
    "avg_delivery_times = [zomato_avg_delivery_time, swiggy_avg_delivery_time]\n",
    "\n",
    "\n",
    "bars = plt.bar(platforms, avg_delivery_times, color=['red', 'orange'])\n",
    "\n",
    "\n",
    "for bar, time in zip(bars, avg_delivery_times):\n",
    "    plt.text(bar.get_x() + bar.get_width() /2, bar.get_height() - 2, f'{time:.2f}', \n",
    "             ha='center', va='bottom', color='white', fontsize=10)\n",
    "\n",
    "plt.xlabel('Platform')\n",
    "plt.ylabel('Average Rating')\n",
    "plt.title('Comparison of Average Rating  for Pav Bhaji  Orders')\n",
    "plt.show()"
   ]
  },
  {
   "cell_type": "code",
   "execution_count": 53,
   "id": "6549e18b",
   "metadata": {},
   "outputs": [],
   "source": [
    "#CONCLUSION\n",
    "#The comparison indicates that Pav Bhaji orders on Swiggy have a higher average rating (3.96) compared to Zomato (3.38). \n",
    "#Swiggy's higher rating"
   ]
  },
  {
   "cell_type": "code",
   "execution_count": 56,
   "id": "8f9cb014",
   "metadata": {},
   "outputs": [
    {
     "name": "stdout",
     "output_type": "stream",
     "text": [
      "Top Resturants who are having good Rating and deliver Faster:  ['By Food Carnival' 'By Meezzaah (Me and Mera Pizza)'\n",
      " 'Bombay Pav Bhaji And Tawa Pulao' 'Marathi Kitchen' 'Indori Poha']\n"
     ]
    }
   ],
   "source": [
    "filtered_data = pv[(pv['Time To Delivery'] <= 30) & (pb['Rating'] > 4)]\n",
    "unique_restaurants = filtered_data['Resturant'].unique()[:5]\n",
    "\n",
    "# Print the unique restaurant names\n",
    "print(\"Top Resturants who are having good Rating and deliver Faster: \",unique_restaurants)"
   ]
  },
  {
   "cell_type": "code",
   "execution_count": 58,
   "id": "720b4dc0",
   "metadata": {},
   "outputs": [
    {
     "name": "stdout",
     "output_type": "stream",
     "text": [
      "Average Cost Of Pav Bhaji on Zomato: 172.0506329113924\n",
      "Average Cost Of Pav Bhaji on Swiggy: 133.9125\n"
     ]
    }
   ],
   "source": [
    "#Cost of average cost of Pav Bhaji\n",
    "# Filter the data Based on tha app\n",
    "PavBhaji_Zomata=pv[pv['App Name'] == 'Zomata']\n",
    "PavBhaji_Swiggy=pv[pv['App Name'] == 'Swiggy']\n",
    "\n",
    "# Calculate the Average Cost Of Paneer  Biriyani orders\n",
    "zomato_avg_pv=PavBhaji_Zomata['Cost'].mean()\n",
    "swiggy_pv=PavBhaji_Swiggy['Cost'].mean()\n",
    "\n",
    "# Print the Cost on each platform\n",
    "print(\"Average Cost Of Pav Bhaji on Zomato:\",zomato_avg_pv)\n",
    "print(\"Average Cost Of Pav Bhaji on Swiggy:\",swiggy_pv)"
   ]
  },
  {
   "cell_type": "code",
   "execution_count": 65,
   "id": "3307427b",
   "metadata": {},
   "outputs": [
    {
     "data": {
      "image/png": "[encoded data removed]",
      "text/plain": [
       "<Figure size 640x480 with 1 Axes>"
      ]
     },
     "metadata": {},
     "output_type": "display_data"
    }
   ],
   "source": [
    "platforms = ['Zomato', 'Swiggy']\n",
    "avg_cost= [zomato_avg_pv,swiggy_pv]\n",
    "\n",
    "\n",
    "bars = plt.bar(platforms,avg_cost, color=['red', 'orange'])\n",
    "\n",
    "\n",
    "for bar, time in zip(bars,avg_cost):\n",
    "    plt.text(bar.get_x() + bar.get_width() /2, bar.get_height() -75, f'{time:.2f}', \n",
    "             ha='center', va='bottom', color='white', fontsize=10)\n",
    "\n",
    "plt.xlabel('Platform')\n",
    "plt.ylabel('Average Rating')\n",
    "plt.title('Comparison of Avg Cost of Pav Bhaji')\n",
    "plt.show()"
   ]
  },
  {
   "cell_type": "code",
   "execution_count": null,
   "id": "3a025390",
   "metadata": {},
   "outputs": [],
   "source": [
    "#CONCLUSION\n",
    "#The comparison reveals that the average cost of Pav Bhaji on Zomato is higher at 172.05, while on Swiggy, it's lower at\n",
    "#133.91. Swiggy offers a more cost-effective option for Pav Bhaji orders compared to Zomato, potentially attracting budget-\n",
    "#conscious customers."
   ]
  }
 ],
 "metadata": {
  "kernelspec": {
   "display_name": "Python 3 (ipykernel)",
   "language": "python",
   "name": "python3"
  },
  "language_info": {
   "codemirror_mode": {
    "name": "ipython",
    "version": 3
   },
   "file_extension": ".py",
   "mimetype": "text/x-python",
   "name": "python",
   "nbconvert_exporter": "python",
   "pygments_lexer": "ipython3",
   "version": "3.11.5"
  }
 },
 "nbformat": 4,
 "nbformat_minor": 5
}
